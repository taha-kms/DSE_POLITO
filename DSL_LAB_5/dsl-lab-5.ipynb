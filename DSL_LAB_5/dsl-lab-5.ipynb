{
 "cells": [
  {
   "cell_type": "code",
   "execution_count": 39,
   "metadata": {},
   "outputs": [],
   "source": [
    "import numpy as np\n",
    "import pandas as pd\n",
    "import os\n",
    "import requests\n",
    "import zipfile"
   ]
  },
  {
   "cell_type": "markdown",
   "metadata": {},
   "source": [
    "#### *1. Download and Unzip in Python*\n"
   ]
  },
  {
   "cell_type": "code",
   "execution_count": 40,
   "metadata": {},
   "outputs": [
    {
     "name": "stdout",
     "output_type": "stream",
     "text": [
      "Downloading the file...\n",
      "File downloaded: c:\\Users\\taha_kms\\Documents\\GitHub\\DSE_POLITO\\DSL_LAB_5\\NYC_POIs.zip\n",
      "Unzipping the file...\n",
      "File unzipped successfully!\n",
      "Zip file deleted.\n"
     ]
    }
   ],
   "source": [
    "# URL of the file\n",
    "url = 'https://github.com/dbdmg/data-science-lab/raw/master/datasets/NYC_POIs.zip'\n",
    "\n",
    "# Define the download location (current directory)\n",
    "download_path = os.path.join(os.getcwd(), 'NYC_POIs.zip')\n",
    "\n",
    "# Download the file\n",
    "print(\"Downloading the file...\")\n",
    "response = requests.get(url)\n",
    "response.raise_for_status()  # Raise an exception if the download fails\n",
    "\n",
    "# Save the file locally\n",
    "with open(download_path, 'wb') as f:\n",
    "    f.write(response.content)\n",
    "print(f\"File downloaded: {download_path}\")\n",
    "\n",
    "# Unzip the file in the current directory\n",
    "print(\"Unzipping the file...\")\n",
    "with zipfile.ZipFile(download_path, 'r') as zip_ref:\n",
    "    zip_ref.extractall(os.getcwd())\n",
    "print(\"File unzipped successfully!\")\n",
    "\n",
    "# Optionally, delete the zip file after extraction\n",
    "os.remove(download_path)\n",
    "print(\"Zip file deleted.\")\n"
   ]
  },
  {
   "cell_type": "markdown",
   "metadata": {},
   "source": [
    "#### *2. Loading the Dataset*\n"
   ]
  },
  {
   "cell_type": "code",
   "execution_count": 41,
   "metadata": {},
   "outputs": [
    {
     "name": "stderr",
     "output_type": "stream",
     "text": [
      "C:\\Users\\taha_kms\\AppData\\Local\\Temp\\ipykernel_11696\\1742266618.py:1: DtypeWarning: Columns (4,5,6,7,8) have mixed types. Specify dtype option on import or set low_memory=False.\n",
      "  pois_df = pd.read_csv('pois_all_info', sep='\\t')\n"
     ]
    }
   ],
   "source": [
    "pois_df = pd.read_csv('pois_all_info', sep='\\t')\n",
    "\n",
    "nyc_municipality_df = pd.read_csv('ny_municipality_pois_id.csv', header=None, names=['id'])\n",
    "\n"
   ]
  },
  {
   "cell_type": "code",
   "execution_count": 42,
   "metadata": {},
   "outputs": [
    {
     "data": {
      "text/html": [
       "<div>\n",
       "<style scoped>\n",
       "    .dataframe tbody tr th:only-of-type {\n",
       "        vertical-align: middle;\n",
       "    }\n",
       "\n",
       "    .dataframe tbody tr th {\n",
       "        vertical-align: top;\n",
       "    }\n",
       "\n",
       "    .dataframe thead th {\n",
       "        text-align: right;\n",
       "    }\n",
       "</style>\n",
       "<table border=\"1\" class=\"dataframe\">\n",
       "  <thead>\n",
       "    <tr style=\"text-align: right;\">\n",
       "      <th></th>\n",
       "      <th>@id</th>\n",
       "      <th>@type</th>\n",
       "      <th>@lat</th>\n",
       "      <th>@lon</th>\n",
       "      <th>amenity</th>\n",
       "      <th>name</th>\n",
       "      <th>shop</th>\n",
       "      <th>public_transport</th>\n",
       "      <th>highway</th>\n",
       "    </tr>\n",
       "  </thead>\n",
       "  <tbody>\n",
       "    <tr>\n",
       "      <th>0</th>\n",
       "      <td>42432939</td>\n",
       "      <td>node</td>\n",
       "      <td>40.814104</td>\n",
       "      <td>-73.949623</td>\n",
       "      <td>NaN</td>\n",
       "      <td>NaN</td>\n",
       "      <td>NaN</td>\n",
       "      <td>stop_position</td>\n",
       "      <td>NaN</td>\n",
       "    </tr>\n",
       "    <tr>\n",
       "      <th>1</th>\n",
       "      <td>42448838</td>\n",
       "      <td>node</td>\n",
       "      <td>40.761647</td>\n",
       "      <td>-73.949864</td>\n",
       "      <td>NaN</td>\n",
       "      <td>NaN</td>\n",
       "      <td>NaN</td>\n",
       "      <td>stop_position</td>\n",
       "      <td>NaN</td>\n",
       "    </tr>\n",
       "    <tr>\n",
       "      <th>2</th>\n",
       "      <td>42723103</td>\n",
       "      <td>node</td>\n",
       "      <td>40.852182</td>\n",
       "      <td>-73.772677</td>\n",
       "      <td>ferry_terminal</td>\n",
       "      <td>Hart Island Ferry Terminal</td>\n",
       "      <td>NaN</td>\n",
       "      <td>NaN</td>\n",
       "      <td>NaN</td>\n",
       "    </tr>\n",
       "    <tr>\n",
       "      <th>3</th>\n",
       "      <td>42764076</td>\n",
       "      <td>node</td>\n",
       "      <td>40.867164</td>\n",
       "      <td>-73.882158</td>\n",
       "      <td>NaN</td>\n",
       "      <td>Botanical Garden</td>\n",
       "      <td>NaN</td>\n",
       "      <td>stop_position</td>\n",
       "      <td>NaN</td>\n",
       "    </tr>\n",
       "    <tr>\n",
       "      <th>4</th>\n",
       "      <td>42811266</td>\n",
       "      <td>node</td>\n",
       "      <td>40.704806</td>\n",
       "      <td>-73.772734</td>\n",
       "      <td>NaN</td>\n",
       "      <td>NaN</td>\n",
       "      <td>NaN</td>\n",
       "      <td>stop_position</td>\n",
       "      <td>NaN</td>\n",
       "    </tr>\n",
       "  </tbody>\n",
       "</table>\n",
       "</div>"
      ],
      "text/plain": [
       "        @id @type       @lat       @lon         amenity  \\\n",
       "0  42432939  node  40.814104 -73.949623             NaN   \n",
       "1  42448838  node  40.761647 -73.949864             NaN   \n",
       "2  42723103  node  40.852182 -73.772677  ferry_terminal   \n",
       "3  42764076  node  40.867164 -73.882158             NaN   \n",
       "4  42811266  node  40.704806 -73.772734             NaN   \n",
       "\n",
       "                         name shop public_transport highway  \n",
       "0                         NaN  NaN    stop_position     NaN  \n",
       "1                         NaN  NaN    stop_position     NaN  \n",
       "2  Hart Island Ferry Terminal  NaN              NaN     NaN  \n",
       "3            Botanical Garden  NaN    stop_position     NaN  \n",
       "4                         NaN  NaN    stop_position     NaN  "
      ]
     },
     "execution_count": 42,
     "metadata": {},
     "output_type": "execute_result"
    }
   ],
   "source": [
    "pois_df.head()"
   ]
  },
  {
   "cell_type": "code",
   "execution_count": 43,
   "metadata": {},
   "outputs": [
    {
     "data": {
      "text/html": [
       "<div>\n",
       "<style scoped>\n",
       "    .dataframe tbody tr th:only-of-type {\n",
       "        vertical-align: middle;\n",
       "    }\n",
       "\n",
       "    .dataframe tbody tr th {\n",
       "        vertical-align: top;\n",
       "    }\n",
       "\n",
       "    .dataframe thead th {\n",
       "        text-align: right;\n",
       "    }\n",
       "</style>\n",
       "<table border=\"1\" class=\"dataframe\">\n",
       "  <thead>\n",
       "    <tr style=\"text-align: right;\">\n",
       "      <th></th>\n",
       "      <th>id</th>\n",
       "    </tr>\n",
       "  </thead>\n",
       "  <tbody>\n",
       "    <tr>\n",
       "      <th>0</th>\n",
       "      <td>42432939</td>\n",
       "    </tr>\n",
       "    <tr>\n",
       "      <th>1</th>\n",
       "      <td>42448838</td>\n",
       "    </tr>\n",
       "    <tr>\n",
       "      <th>2</th>\n",
       "      <td>42723103</td>\n",
       "    </tr>\n",
       "    <tr>\n",
       "      <th>3</th>\n",
       "      <td>42764076</td>\n",
       "    </tr>\n",
       "    <tr>\n",
       "      <th>4</th>\n",
       "      <td>42811266</td>\n",
       "    </tr>\n",
       "  </tbody>\n",
       "</table>\n",
       "</div>"
      ],
      "text/plain": [
       "         id\n",
       "0  42432939\n",
       "1  42448838\n",
       "2  42723103\n",
       "3  42764076\n",
       "4  42811266"
      ]
     },
     "execution_count": 43,
     "metadata": {},
     "output_type": "execute_result"
    }
   ],
   "source": [
    "nyc_municipality_df.head()"
   ]
  },
  {
   "cell_type": "markdown",
   "metadata": {},
   "source": [
    "#### *3. Filter the POIs that are present in the NYC municipality dataset*"
   ]
  },
  {
   "cell_type": "code",
   "execution_count": 44,
   "metadata": {},
   "outputs": [
    {
     "data": {
      "text/html": [
       "<div>\n",
       "<style scoped>\n",
       "    .dataframe tbody tr th:only-of-type {\n",
       "        vertical-align: middle;\n",
       "    }\n",
       "\n",
       "    .dataframe tbody tr th {\n",
       "        vertical-align: top;\n",
       "    }\n",
       "\n",
       "    .dataframe thead th {\n",
       "        text-align: right;\n",
       "    }\n",
       "</style>\n",
       "<table border=\"1\" class=\"dataframe\">\n",
       "  <thead>\n",
       "    <tr style=\"text-align: right;\">\n",
       "      <th></th>\n",
       "      <th>@id</th>\n",
       "      <th>@type</th>\n",
       "      <th>@lat</th>\n",
       "      <th>@lon</th>\n",
       "      <th>amenity</th>\n",
       "      <th>name</th>\n",
       "      <th>shop</th>\n",
       "      <th>public_transport</th>\n",
       "      <th>highway</th>\n",
       "    </tr>\n",
       "  </thead>\n",
       "  <tbody>\n",
       "    <tr>\n",
       "      <th>0</th>\n",
       "      <td>42432939</td>\n",
       "      <td>node</td>\n",
       "      <td>40.814104</td>\n",
       "      <td>-73.949623</td>\n",
       "      <td>NaN</td>\n",
       "      <td>NaN</td>\n",
       "      <td>NaN</td>\n",
       "      <td>stop_position</td>\n",
       "      <td>NaN</td>\n",
       "    </tr>\n",
       "    <tr>\n",
       "      <th>1</th>\n",
       "      <td>42448838</td>\n",
       "      <td>node</td>\n",
       "      <td>40.761647</td>\n",
       "      <td>-73.949864</td>\n",
       "      <td>NaN</td>\n",
       "      <td>NaN</td>\n",
       "      <td>NaN</td>\n",
       "      <td>stop_position</td>\n",
       "      <td>NaN</td>\n",
       "    </tr>\n",
       "    <tr>\n",
       "      <th>2</th>\n",
       "      <td>42723103</td>\n",
       "      <td>node</td>\n",
       "      <td>40.852182</td>\n",
       "      <td>-73.772677</td>\n",
       "      <td>ferry_terminal</td>\n",
       "      <td>Hart Island Ferry Terminal</td>\n",
       "      <td>NaN</td>\n",
       "      <td>NaN</td>\n",
       "      <td>NaN</td>\n",
       "    </tr>\n",
       "    <tr>\n",
       "      <th>3</th>\n",
       "      <td>42764076</td>\n",
       "      <td>node</td>\n",
       "      <td>40.867164</td>\n",
       "      <td>-73.882158</td>\n",
       "      <td>NaN</td>\n",
       "      <td>Botanical Garden</td>\n",
       "      <td>NaN</td>\n",
       "      <td>stop_position</td>\n",
       "      <td>NaN</td>\n",
       "    </tr>\n",
       "    <tr>\n",
       "      <th>4</th>\n",
       "      <td>42811266</td>\n",
       "      <td>node</td>\n",
       "      <td>40.704806</td>\n",
       "      <td>-73.772734</td>\n",
       "      <td>NaN</td>\n",
       "      <td>NaN</td>\n",
       "      <td>NaN</td>\n",
       "      <td>stop_position</td>\n",
       "      <td>NaN</td>\n",
       "    </tr>\n",
       "  </tbody>\n",
       "</table>\n",
       "</div>"
      ],
      "text/plain": [
       "        @id @type       @lat       @lon         amenity  \\\n",
       "0  42432939  node  40.814104 -73.949623             NaN   \n",
       "1  42448838  node  40.761647 -73.949864             NaN   \n",
       "2  42723103  node  40.852182 -73.772677  ferry_terminal   \n",
       "3  42764076  node  40.867164 -73.882158             NaN   \n",
       "4  42811266  node  40.704806 -73.772734             NaN   \n",
       "\n",
       "                         name shop public_transport highway  \n",
       "0                         NaN  NaN    stop_position     NaN  \n",
       "1                         NaN  NaN    stop_position     NaN  \n",
       "2  Hart Island Ferry Terminal  NaN              NaN     NaN  \n",
       "3            Botanical Garden  NaN    stop_position     NaN  \n",
       "4                         NaN  NaN    stop_position     NaN  "
      ]
     },
     "execution_count": 44,
     "metadata": {},
     "output_type": "execute_result"
    }
   ],
   "source": [
    "filtered_pois_df = pois_df[pois_df['@id'].isin(nyc_municipality_df['id'])]\n",
    "\n",
    "\n",
    "filtered_pois_df.head()"
   ]
  },
  {
   "cell_type": "markdown",
   "metadata": {},
   "source": [
    "#### *4. # Display the columns of dataset and their data types*"
   ]
  },
  {
   "cell_type": "code",
   "execution_count": null,
   "metadata": {},
   "outputs": [
    {
     "name": "stdout",
     "output_type": "stream",
     "text": [
      "\n",
      "Columns parsed: ['@id', '@type', '@lat', '@lon', 'amenity', 'name', 'shop', 'public_transport', 'highway']\n",
      "\n",
      "Data types inferred by Pandas:\n",
      "@id                   int64\n",
      "@type                object\n",
      "@lat                float64\n",
      "@lon                float64\n",
      "amenity              object\n",
      "name                 object\n",
      "shop                 object\n",
      "public_transport     object\n",
      "highway              object\n",
      "dtype: object\n"
     ]
    }
   ],
   "source": [
    "print(\"\\nColumns parsed:\", filtered_pois_df.columns.tolist())\n",
    "\n",
    "\n",
    "print(\"\\nData types inferred by Pandas:\")\n",
    "print(filtered_pois_df.dtypes)"
   ]
  },
  {
   "cell_type": "code",
   "execution_count": 47,
   "metadata": {},
   "outputs": [
    {
     "data": {
      "text/plain": [
       "@id                     0\n",
       "@type                   0\n",
       "@lat                    0\n",
       "@lon                    0\n",
       "amenity             28824\n",
       "name                22972\n",
       "shop                44804\n",
       "public_transport    45146\n",
       "highway             45962\n",
       "dtype: int64"
      ]
     },
     "execution_count": 47,
     "metadata": {},
     "output_type": "execute_result"
    }
   ],
   "source": [
    "filtered_pois_df.isnull().sum()\n"
   ]
  },
  {
   "cell_type": "markdown",
   "metadata": {},
   "source": [
    "## What did you expect?\n",
    "\n",
    "\n",
    "- Since each Point of Interest (POI) can belong to only one of the four categories—amenity, shop, public_transport, or highway—it was expected that each category column would have missing values for POIs that do not belong to that category.\n",
    "\n",
    "- Additionally, some POIs might not have a specified name, as not all points of interest are labeled (e.g., generic stop positions or unnamed locations).\n",
    "\n",
    "---\n",
    "\n",
    "\n",
    "\n",
    "## What can you infer from this first analysis?\n",
    "\n",
    "- The columns @id, @type, @lat, and @lon have zero missing values, indicating that every POI has a unique identifier and geographical coordinates. This consistency is essential for mapping and spatial analysis.\n",
    "\n",
    "- The amenity, shop, public_transport, and highway columns have significant missing values because each POI belongs to only one category. This pattern is expected and not indicative of data quality issues.\n",
    "\n",
    "- The name column has some missing values. This might imply that certain POIs, such as generic locations like stop positions or unnamed amenities, do not have specific names. This could impact analyses that rely on named locations."
   ]
  }
 ],
 "metadata": {
  "kernelspec": {
   "display_name": "Python 3",
   "language": "python",
   "name": "python3"
  },
  "language_info": {
   "codemirror_mode": {
    "name": "ipython",
    "version": 3
   },
   "file_extension": ".py",
   "mimetype": "text/x-python",
   "name": "python",
   "nbconvert_exporter": "python",
   "pygments_lexer": "ipython3",
   "version": "3.9.13"
  }
 },
 "nbformat": 4,
 "nbformat_minor": 2
}
