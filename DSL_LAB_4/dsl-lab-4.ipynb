{
 "cells": [
  {
   "cell_type": "code",
   "execution_count": 19,
   "metadata": {},
   "outputs": [],
   "source": [
    "import numpy as np\n",
    "import pandas as pd"
   ]
  },
  {
   "cell_type": "markdown",
   "metadata": {},
   "source": [
    "***Load Iris Data into a Pandas DataFrame***"
   ]
  },
  {
   "cell_type": "code",
   "execution_count": 13,
   "metadata": {},
   "outputs": [
    {
     "data": {
      "text/html": [
       "<div>\n",
       "<style scoped>\n",
       "    .dataframe tbody tr th:only-of-type {\n",
       "        vertical-align: middle;\n",
       "    }\n",
       "\n",
       "    .dataframe tbody tr th {\n",
       "        vertical-align: top;\n",
       "    }\n",
       "\n",
       "    .dataframe thead th {\n",
       "        text-align: right;\n",
       "    }\n",
       "</style>\n",
       "<table border=\"1\" class=\"dataframe\">\n",
       "  <thead>\n",
       "    <tr style=\"text-align: right;\">\n",
       "      <th></th>\n",
       "      <th>0</th>\n",
       "      <th>1</th>\n",
       "      <th>2</th>\n",
       "      <th>3</th>\n",
       "      <th>4</th>\n",
       "    </tr>\n",
       "  </thead>\n",
       "  <tbody>\n",
       "    <tr>\n",
       "      <th>0</th>\n",
       "      <td>5.1</td>\n",
       "      <td>3.5</td>\n",
       "      <td>1.4</td>\n",
       "      <td>0.2</td>\n",
       "      <td>Iris-setosa</td>\n",
       "    </tr>\n",
       "    <tr>\n",
       "      <th>1</th>\n",
       "      <td>4.9</td>\n",
       "      <td>3.0</td>\n",
       "      <td>1.4</td>\n",
       "      <td>0.2</td>\n",
       "      <td>Iris-setosa</td>\n",
       "    </tr>\n",
       "    <tr>\n",
       "      <th>2</th>\n",
       "      <td>4.7</td>\n",
       "      <td>3.2</td>\n",
       "      <td>1.3</td>\n",
       "      <td>0.2</td>\n",
       "      <td>Iris-setosa</td>\n",
       "    </tr>\n",
       "    <tr>\n",
       "      <th>3</th>\n",
       "      <td>4.6</td>\n",
       "      <td>3.1</td>\n",
       "      <td>1.5</td>\n",
       "      <td>0.2</td>\n",
       "      <td>Iris-setosa</td>\n",
       "    </tr>\n",
       "    <tr>\n",
       "      <th>4</th>\n",
       "      <td>5.0</td>\n",
       "      <td>3.6</td>\n",
       "      <td>1.4</td>\n",
       "      <td>0.2</td>\n",
       "      <td>Iris-setosa</td>\n",
       "    </tr>\n",
       "  </tbody>\n",
       "</table>\n",
       "</div>"
      ],
      "text/plain": [
       "     0    1    2    3            4\n",
       "0  5.1  3.5  1.4  0.2  Iris-setosa\n",
       "1  4.9  3.0  1.4  0.2  Iris-setosa\n",
       "2  4.7  3.2  1.3  0.2  Iris-setosa\n",
       "3  4.6  3.1  1.5  0.2  Iris-setosa\n",
       "4  5.0  3.6  1.4  0.2  Iris-setosa"
      ]
     },
     "execution_count": 13,
     "metadata": {},
     "output_type": "execute_result"
    }
   ],
   "source": [
    "df = pd.read_csv( \"https://archive.ics.uci.edu/ml/machine-learning-databases/iris/iris.data\",header=None, )\n",
    "\n",
    "df.head()"
   ]
  },
  {
   "cell_type": "markdown",
   "metadata": {},
   "source": [
    "- **Randomly Select 20% of the Records for Testing**\n",
    "- **Extract the First Four Columns as Features (X_test)**\n",
    "- **Extract the Last Column as Labels (y_test)**"
   ]
  },
  {
   "cell_type": "code",
   "execution_count": 14,
   "metadata": {},
   "outputs": [],
   "source": [
    "df_test = df.sample(frac=0.2, random_state=42)\n",
    "\n",
    "X_test = df_test.iloc[:, :4].values\n",
    "y_test =df_test.iloc[:, -1].values"
   ]
  },
  {
   "cell_type": "code",
   "execution_count": 15,
   "metadata": {},
   "outputs": [
    {
     "data": {
      "text/plain": [
       "((30, 4), (30,))"
      ]
     },
     "execution_count": 15,
     "metadata": {},
     "output_type": "execute_result"
    }
   ],
   "source": [
    "X_test.shape, y_test.shape"
   ]
  },
  {
   "cell_type": "markdown",
   "metadata": {},
   "source": [
    "- **Store the remaining 80% of the records in the same way.** \n",
    "- **We use the names `X_train` and `y_train` for the arrays.**\n",
    "\n",
    "\n",
    "*This is the data that your model will use as ground-truth knowledge (i.e. the\n",
    "training data).*"
   ]
  },
  {
   "cell_type": "code",
   "execution_count": 16,
   "metadata": {},
   "outputs": [],
   "source": [
    "df_train = df.drop(df_test.index)\n",
    "\n",
    "X_train = df_train.iloc[:, :4].values\n",
    "y_train =df_train.iloc[:, -1].values"
   ]
  },
  {
   "cell_type": "code",
   "execution_count": 17,
   "metadata": {},
   "outputs": [
    {
     "data": {
      "text/plain": [
       "((120, 4), (120,))"
      ]
     },
     "execution_count": 17,
     "metadata": {},
     "output_type": "execute_result"
    }
   ],
   "source": [
    "X_train.shape, y_train.shape"
   ]
  },
  {
   "cell_type": "markdown",
   "metadata": {},
   "source": [
    "Defining `KNearestNeighbors` class "
   ]
  },
  {
   "cell_type": "code",
   "execution_count": null,
   "metadata": {},
   "outputs": [],
   "source": [
    "class KNearestNeighbors:\n",
    "    def __init__(self, k, distance_metric=\"euclidean\", weights = \"uniform\"):\n",
    "        \n",
    "        self.k = k\n",
    "        self.weights = weights\n",
    "        self.distance_metric = distance_metric.lower()\n",
    "\n",
    "        \n",
    "        self.X_train = None\n",
    "        self.y_train = None \n",
    "\n",
    "    def _euclidean_distance(self, p, q):\n",
    "        return np.sqrt(np.sum((np.array(p) - np.array(q))**2))\n",
    "    \n",
    "    def _manhattan_distance(self, p, q):\n",
    "        return np.abs(np.sum(np.array(p) - np.array(q)))\n",
    "    \n",
    "    def _cosine_distance(self, p, q):\n",
    "        similarity = np.dot(p, q) / (np.linalg.norm(p) * np.linalg.norm(q))\n",
    "        return 1 - similarity\n",
    "    \n",
    "    def _compute_distance(self, p, q):\n",
    "        if self.distance_metric == \"euclidean\":\n",
    "            return self._euclidean_distance(p, q) \n",
    "        \n",
    "        elif self.distance_metric == \"cosine\":\n",
    "            return self._cosine_distance(p, q)\n",
    "        \n",
    "        elif self.distance_metric == \"manhattan\":\n",
    "            return self._manhattan_distance(p, q)\n",
    "        \n",
    "        else:\n",
    "            raise ValueError(\"Unsupported distance metric\")\n",
    "\n",
    "        \n",
    "    def _get_neighbors(self, x):\n",
    "        distances = [self._compute_distance(x, x_train) for x_train in self.X_train]\n",
    "        neighbors_indices = np.argsort(distances)[:self.k]\n",
    "        neighbors_distances = [distances[i] for i in neighbors_indices]\n",
    "        return neighbors_indices, neighbors_distances\n",
    "        \n",
    "    def fit(self, X, y):\n",
    "        \"\"\"\n",
    "        Store the 'prior knowledge' of you model that will be used\n",
    "        to predict new labels.\n",
    "        :param X : input data points, ndarray, shape = (R,C).\n",
    "        :param y : input labels, ndarray, shape = (R,).\n",
    "        \"\"\"\n",
    "        self.X_train = X\n",
    "        self.y_train = y\n",
    "    \n",
    "    def predict(self, X):\n",
    "        predictions = []\n",
    "        for x in X:\n",
    "            neighbors_indices, neighbors_distances = self._get_neighbors(x)\n",
    "            neighbor_labels = self.y_train[neighbors_indices]\n",
    "\n",
    "            if self.weights == \"uniform\":\n",
    "                # Majority vote\n",
    "                unique_labels, counts = np.unique(neighbor_labels, return_counts=True)\n",
    "                prediction = unique_labels[np.argmax(counts)]\n",
    "                \n",
    "            elif self.weights == \"distance\":\n",
    "                # Inverse distance weighting\n",
    "                weights = 1 / np.array(neighbors_distances)\n",
    "                weighted_votes = {}\n",
    "                \n",
    "                for label, weight in zip(neighbor_labels, weights):\n",
    "                    weighted_votes[label] = weighted_votes.get(label, 0) + weight\n",
    "                prediction = max(weighted_votes, key=weighted_votes.get)\n",
    "            else:\n",
    "                raise ValueError(\"Unsupported weighting scheme\")\n",
    "\n",
    "            predictions.append(prediction)\n",
    "\n",
    "        return np.array(predictions)\n",
    "\n",
    "    def score(self, X, y):\n",
    "        predictions = self.predict(X)\n",
    "        return np.mean(predictions == y)            \n"
   ]
  },
  {
   "cell_type": "code",
   "execution_count": 44,
   "metadata": {},
   "outputs": [
    {
     "name": "stdout",
     "output_type": "stream",
     "text": [
      "Accuracy: 0.9\n"
     ]
    }
   ],
   "source": [
    "knn = KNearestNeighbors(k=3, distance_metric=\"manhattan\", weights=\"uniform\")\n",
    "\n",
    "knn.fit(X_train, y_train)\n",
    "\n",
    "y_pred = knn.predict(X_test)\n",
    "accuracy = knn.score(X_test, y_test)\n",
    "\n",
    "print(\"Accuracy:\", accuracy)\n",
    "\n"
   ]
  }
 ],
 "metadata": {
  "kernelspec": {
   "display_name": "Python 3",
   "language": "python",
   "name": "python3"
  },
  "language_info": {
   "codemirror_mode": {
    "name": "ipython",
    "version": 3
   },
   "file_extension": ".py",
   "mimetype": "text/x-python",
   "name": "python",
   "nbconvert_exporter": "python",
   "pygments_lexer": "ipython3",
   "version": "3.9.13"
  }
 },
 "nbformat": 4,
 "nbformat_minor": 2
}
