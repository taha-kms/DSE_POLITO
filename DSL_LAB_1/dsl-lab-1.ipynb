{
 "cells": [
  {
   "cell_type": "markdown",
   "metadata": {},
   "source": [
    "## Data Science Lab (Lab #1)\n",
    "---\n",
    "\n",
    "### 1. Iris dataset\n",
    "\n",
    "1.  Downloaded and load the Iris dataset as a list of lists (each of the 150 lists should have\n",
    "5 elements).<br>\n",
    "You can make use of the csv module presented. You can read more about the csv\n",
    "module on the [official documentation](https://docs.python.org/3/library/csv.html).\n",
    "\n"
   ]
  },
  {
   "cell_type": "code",
   "execution_count": 20,
   "metadata": {},
   "outputs": [
    {
     "name": "stderr",
     "output_type": "stream",
     "text": [
      "  % Total    % Received % Xferd  Average Speed   Time    Time     Time  Current\n",
      "                                 Dload  Upload   Total   Spent    Left  Speed\n",
      "\n",
      "  0     0    0     0    0     0      0      0 --:--:-- --:--:-- --:--:--     0\n",
      "  0     0    0     0    0     0      0      0 --:--:-- --:--:-- --:--:--     0\n",
      "100  4551    0  4551    0     0   7037      0 --:--:-- --:--:-- --:--:--  7055\n"
     ]
    }
   ],
   "source": [
    "!curl -O https://archive.ics.uci.edu/ml/machine-learning-databases/iris/iris.data"
   ]
  },
  {
   "cell_type": "code",
   "execution_count": 21,
   "metadata": {},
   "outputs": [],
   "source": [
    "# import libraries\n",
    "\n",
    "import numpy as np\n",
    "import csv\n"
   ]
  },
  {
   "cell_type": "code",
   "execution_count": 22,
   "metadata": {},
   "outputs": [],
   "source": [
    "\n",
    "iris_data = list()\n",
    "with open(\"iris.data\") as f:\n",
    "    \n",
    "    for row in csv.reader(f):\n",
    "        iris_data.append(row)\n",
    "        "
   ]
  },
  {
   "cell_type": "code",
   "execution_count": 23,
   "metadata": {},
   "outputs": [
    {
     "data": {
      "text/plain": [
       "[['5.1', '3.5', '1.4', '0.2', 'Iris-setosa'],\n",
       " ['4.9', '3.0', '1.4', '0.2', 'Iris-setosa'],\n",
       " ['4.7', '3.2', '1.3', '0.2', 'Iris-setosa'],\n",
       " ['4.6', '3.1', '1.5', '0.2', 'Iris-setosa'],\n",
       " ['5.0', '3.6', '1.4', '0.2', 'Iris-setosa']]"
      ]
     },
     "execution_count": 23,
     "metadata": {},
     "output_type": "execute_result"
    }
   ],
   "source": [
    "# Check first few rows\n",
    "iris_data[:5]"
   ]
  },
  {
   "cell_type": "markdown",
   "metadata": {},
   "source": [
    "\n",
    "2. Compute and print the mean and the standard deviation for each of the 4 measurement columns \n",
    "   (i.e. sepal length and width, petal length and width).<br>\n",
    "   Remember that, for a given list of n values \n",
    "   \\( x = (x_1, x_2, ..., x_n) \\), the mean `mu` and the standard deviation `sigma` are defined respectively as:\n",
    "\n",
    "   $$ \\mu = \\frac{1}{n} \\sum_{i} x_i $$\n",
    "\n",
    "   $$ \\sigma = \\sqrt{ \\frac{1}{n} \\sum_{i} (x_i - \\mu)^2 } $$\n"
   ]
  },
  {
   "cell_type": "code",
   "execution_count": 45,
   "metadata": {},
   "outputs": [
    {
     "name": "stdout",
     "output_type": "stream",
     "text": [
      "Sepal Length Mean: 5.843, Std Dev: 0.825.\n",
      "Sepal Width Mean: 3.054, Std Dev: 0.432.\n",
      "Petal Length Mean: 3.759, Std Dev: 1.759.\n",
      "Petal Width Mean: 1.199, Std Dev: 0.761.\n"
     ]
    }
   ],
   "source": [
    "sepal_length = np.array([float(row[0]) for row in iris_data if len(row) == 5])\n",
    "sepal_width = np.array([float(row[1]) for row in iris_data if len(row) == 5])\n",
    "petal_length = np.array([float(row[2]) for row in iris_data if len(row) == 5])\n",
    "petal_width = np.array([float(row[3]) for row in iris_data if len(row) == 5])\n",
    "\n",
    "\n",
    "# Compute mean and standard deviation\n",
    "for name, data in zip(['Sepal Length'  ,'Sepal Width' ,'Petal Length' ,'Petal Width'], \n",
    "                      [ sepal_length   , sepal_width  , petal_length  , petal_width]):\n",
    "    \n",
    "    print(f'{name} Mean: {np.mean(data):.3f}, Std Dev: {np.std(data):.3f}.')\n"
   ]
  },
  {
   "cell_type": "markdown",
   "metadata": {},
   "source": [
    "3. Compute and print the mean and the standard deviation for each of the 4 measurement columns,\n",
    "separately for each of the three Iris species (versicolor, virginica and setosa)."
   ]
  },
  {
   "cell_type": "code",
   "execution_count": 47,
   "metadata": {},
   "outputs": [
    {
     "name": "stdout",
     "output_type": "stream",
     "text": [
      "Iris-setosa Mean and Std Dev:\n",
      "Sepal Length Mean: 5.006, Std Dev: 0.349\n",
      "Sepal Width Mean: 3.418, Std Dev: 0.377\n",
      "Petal Length Mean: 1.464, Std Dev: 0.172\n",
      "Petal Width Mean: 0.244, Std Dev: 0.106\n",
      "\n",
      "Iris-versicolor Mean and Std Dev:\n",
      "Sepal Length Mean: 5.936, Std Dev: 0.511\n",
      "Sepal Width Mean: 2.770, Std Dev: 0.311\n",
      "Petal Length Mean: 4.260, Std Dev: 0.465\n",
      "Petal Width Mean: 1.326, Std Dev: 0.196\n",
      "\n",
      "Iris-virginica Mean and Std Dev:\n",
      "Sepal Length Mean: 6.588, Std Dev: 0.629\n",
      "Sepal Width Mean: 2.974, Std Dev: 0.319\n",
      "Petal Length Mean: 5.552, Std Dev: 0.546\n",
      "Petal Width Mean: 2.026, Std Dev: 0.272\n",
      "\n"
     ]
    }
   ],
   "source": [
    "\n",
    "# Group by species and compute mean/std dev\n",
    "species_groups = {\"Iris-setosa\": [], \"Iris-versicolor\": [], \"Iris-virginica\": []}\n",
    "\n",
    "for row in iris_data:\n",
    "    if len(row) == 5:\n",
    "        species_groups[row[4]].append([float(val) for val in row[:4]])\n",
    "\n",
    "for species, values in species_groups.items():\n",
    "    print(f\"{species} Mean and Std Dev:\")\n",
    "    values = np.array(values)\n",
    "    for i, measurement in enumerate(['Sepal Length', 'Sepal Width', 'Petal Length', 'Petal Width']):\n",
    "        print(f\"{measurement} Mean: {np.mean(values[:, i]):.3f}, Std Dev: {np.std(values[:, i]):.3f}\")\n",
    "    print()\n",
    "\n",
    "\n",
    "\n"
   ]
  },
  {
   "cell_type": "markdown",
   "metadata": {},
   "source": [
    "4. Based on the results of exercises 2 and 3, which of the 4 measurements would you considering\n",
    "as being the most characterizing one for the three species?<br> (In other words, which measurement\n",
    "would you consider “best”, if you were to guess the Iris species based only on those four values?)"
   ]
  },
  {
   "cell_type": "code",
   "execution_count": 68,
   "metadata": {},
   "outputs": [],
   "source": [
    "# Based on the results of exercises 2 and 3, the **Petal Length** appears to be the most characterizing measurement for distinguishing between the three species of Iris.\n",
    "\n",
    "# - **Petal Length** would be the best single feature to use if you were to guess the species of an Iris flower based only on one measurement, \n",
    "# as it has the largest difference in means and relatively small standard deviation between the three species.\n",
    "\n",
    "# Petal Width is also a fairly good distinguishing measurement, particularly because Iris-setosa has a much smaller petal width (Mean: 0.244 cm) compared to the other two species, \n",
    "# but the difference in means for Iris-versicolor and Iris-virginica is not as large as for petal length."
   ]
  },
  {
   "cell_type": "markdown",
   "metadata": {},
   "source": [
    "5. Based on the considerations of Exercise 3, assign the flowers with the following measurements\n",
    "to what you consider would be the most likely species."
   ]
  },
  {
   "cell_type": "code",
   "execution_count": 49,
   "metadata": {},
   "outputs": [
    {
     "name": "stdout",
     "output_type": "stream",
     "text": [
      "Iris-versicolor\n",
      "Iris-virginica\n",
      "Iris-setosa\n"
     ]
    }
   ],
   "source": [
    "# Simple heuristic based on exercise 3 results\n",
    "def guess_species(sepal_length, sepal_width, petal_length, petal_width):\n",
    "    # Heuristic logic based on the statistics computed earlier\n",
    "    if petal_length < 2:\n",
    "        return \"Iris-setosa\"\n",
    "    elif petal_width > 1.5:\n",
    "        return \"Iris-virginica\"\n",
    "    else:\n",
    "        return \"Iris-versicolor\"\n",
    "\n",
    "# Test with new values\n",
    "print(guess_species(5.2, 3.1, 4.0, 1.2))\n",
    "print(guess_species(4.9, 2.5, 5.6, 2.0))\n",
    "print(guess_species(5.4, 3.2, 1.9, 0.4))\n"
   ]
  },
  {
   "cell_type": "markdown",
   "metadata": {},
   "source": [
    "---\n",
    "### 2. Citybik.es dataset\n",
    "\n",
    "1. Load the previously downloaded Citybik.es dataset as a Python dictionary. You can make use of the\n",
    "json module presented. You can find the full documentation for the json module [here](https://docs.python.org/3/library/json.html).<br>After the\n",
    "dictionary is loaded, explore its contents from an interactive shell.\n"
   ]
  },
  {
   "cell_type": "code",
   "execution_count": 51,
   "metadata": {},
   "outputs": [
    {
     "name": "stderr",
     "output_type": "stream",
     "text": [
      "  % Total    % Received % Xferd  Average Speed   Time    Time     Time  Current\n",
      "                                 Dload  Upload   Total   Spent    Left  Speed\n",
      "\n",
      "  0     0    0     0    0     0      0      0 --:--:-- --:--:-- --:--:--     0\n",
      "100  8028  100  8028    0     0   110k      0 --:--:-- --:--:-- --:--:--  113k\n"
     ]
    }
   ],
   "source": [
    "!curl -O http://api.citybik.es/v2/networks/to-bike"
   ]
  },
  {
   "cell_type": "code",
   "execution_count": 53,
   "metadata": {},
   "outputs": [],
   "source": [
    "import json"
   ]
  },
  {
   "cell_type": "code",
   "execution_count": 56,
   "metadata": {},
   "outputs": [
    {
     "name": "stdout",
     "output_type": "stream",
     "text": [
      "<class 'dict'>\n",
      "{'network': {'id': 'to-bike', 'name': '[TO]BIKE', 'location': {'latitude': 45.07098200000001, 'longitude': 7.685676, 'city': 'Torino', 'country': 'IT'}, 'href': '/v2/networks/to-bike', 'company': ['Comunicare S.r.l.'], 'system': 'BicincittÃ\\xa0', 'source': 'http://www.tobike.it/frmLeStazioni.aspx?ID=22', 'stations': [{'id': '0c7ddac244be98e27b3249521685e480', 'name': '05. Corso Garibaldi', 'latitude': 45.127804527473224, 'longitude': 7.635798454284668, 'timestamp': '2024-10-05T12:04:03.501433Z', 'free_bikes': 0, 'empty_slots': 0, 'extra': {'uid': '587', 'number': 5, 'status': 'offline', 'score': 4.2, 'reviews': 13}}, {'id': '0df8838da4cf2ffe0eaf28629b902dd7', 'name': '01. Municipio', 'latitude': 45.094383006473215, 'longitude': 7.524325847625732, 'timestamp': '2024-10-05T12:04:03.597035Z', 'free_bikes': 5, 'empty_slots': 3, 'extra': {'uid': '594', 'number': 1, 'status': 'offline', 'score': 2.1, 'reviews': 16}}, {'id': '22743c60546a6b5713094662d6940f4e', 'name': '08. Lupo', 'latitude': 45.06566411992803, 'longitude': 7.579057797622681, 'timestamp': '2024-10-05T12:04:03.375113Z', 'free_bikes': 5, 'empty_slots': 3, 'extra': {'uid': '1186', 'number': 8, 'status': 'offline', 'score': 3.5, 'reviews': 4}}, {'id': '6ada4564cfb797b8829b59ec7742e2ed', 'name': '05. Universita`', 'latitude': 45.06479159126726, 'longitude': 7.588076591491699, 'timestamp': '2024-10-05T12:04:03.375086Z', 'free_bikes': 5, 'empty_slots': 3, 'extra': {'uid': '541', 'number': 5, 'status': 'offline', 'score': 1.2, 'reviews': 44}}, {'id': '8bca5f91b24693d216f576525e7c1647', 'name': '01. Largo Oropa', 'latitude': 45.136100086850355, 'longitude': 7.576360702514648, 'timestamp': '2024-10-05T12:04:03.622200Z', 'free_bikes': 5, 'empty_slots': 3, 'extra': {'uid': '595', 'number': 1, 'status': 'offline', 'score': 2.8, 'reviews': 20}}, {'id': '8c12fcd7311c98e9a948af38caa4d051', 'name': '01. Certosa / P.le Avis', 'latitude': 45.084126990755045, 'longitude': 7.575631141662598, 'timestamp': '2024-10-05T12:04:03.469155Z', 'free_bikes': 5, 'empty_slots': 3, 'extra': {'uid': '529', 'number': 1, 'status': 'offline', 'score': 3.0, 'reviews': 28}}, {'id': '8d5cc1c49d81c66760c500a922d80b5c', 'name': '10. Europa Unita', 'latitude': 45.09064418309555, 'longitude': 7.570132452917505, 'timestamp': '2024-10-05T12:04:03.469211Z', 'free_bikes': 5, 'empty_slots': 3, 'extra': {'uid': '1185', 'number': 10, 'status': 'offline', 'score': 2.5, 'reviews': 5}}, {'id': '8fa4807880ed26b205517a071dca0c21', 'name': '05. Savonera', 'latitude': 45.115722339702245, 'longitude': 7.613739967346191, 'timestamp': '2024-10-05T12:04:03.469184Z', 'free_bikes': 5, 'empty_slots': 3, 'extra': {'uid': '533', 'number': 5, 'status': 'offline', 'score': 4.0, 'reviews': 11}}, {'id': '99d05089c79ad0acfd5d3acecaf2cd83', 'name': '08. San Marchese', 'latitude': 45.12489776867726, 'longitude': 7.65296459197998, 'timestamp': '2024-10-05T12:04:03.501458Z', 'free_bikes': 0, 'empty_slots': 0, 'extra': {'uid': '590', 'number': 8, 'status': 'offline', 'score': 4.1, 'reviews': 10}}, {'id': 'a4792b55af4c2ed4730f24207b924ead', 'name': '07. Buozzi', 'latitude': 45.125836425730945, 'longitude': 7.642192840576172, 'timestamp': '2024-10-05T12:04:03.501450Z', 'free_bikes': 0, 'empty_slots': 0, 'extra': {'uid': '589', 'number': 7, 'status': 'offline', 'score': 3.0, 'reviews': 20}}, {'id': 'aeb1bf0a60459898301e9f798dbc17b7', 'name': '03. C. Commerciale I Portici', 'latitude': 45.12418619577999, 'longitude': 7.632043361663818, 'timestamp': '2024-10-05T12:04:03.501413Z', 'free_bikes': 0, 'empty_slots': 0, 'extra': {'uid': '585', 'number': 3, 'status': 'offline', 'score': 3.9, 'reviews': 15}}, {'id': 'bc2f3dac64e76a022c2869659614a6f5', 'name': '02. Pettiti', 'latitude': 45.129893668868284, 'longitude': 7.631292343139648, 'timestamp': '2024-10-05T12:04:03.501398Z', 'free_bikes': 0, 'empty_slots': 0, 'extra': {'uid': '584', 'number': 2, 'status': 'offline', 'score': 4.3, 'reviews': 14}}, {'id': 'bc312c77398b36b68dcc11a936231be8', 'name': '02. Fabbrichetta', 'latitude': 45.067519551794994, 'longitude': 7.563056945800781, 'timestamp': '2024-10-05T12:04:03.375055Z', 'free_bikes': 5, 'empty_slots': 3, 'extra': {'uid': '538', 'number': 2, 'status': 'offline', 'score': 3.4, 'reviews': 26}}, {'id': 'c152199d3e16721e1f430de89ffff5eb', 'name': '06. Municipio', 'latitude': 45.13300074668823, 'longitude': 7.632789015769959, 'timestamp': '2024-10-05T12:04:03.501441Z', 'free_bikes': 0, 'empty_slots': 0, 'extra': {'uid': '588', 'number': 6, 'status': 'offline', 'score': 4.2, 'reviews': 37}}, {'id': 'c50124e7cca913343a6cbeba5e4b6cdb', 'name': '04. Metro Paradiso', 'latitude': 45.07373275368509, 'longitude': 7.601809501647949, 'timestamp': '2024-10-05T12:04:03.469174Z', 'free_bikes': 5, 'empty_slots': 3, 'extra': {'uid': '532', 'number': 4, 'status': 'offline', 'score': 3.0, 'reviews': 87}}, {'id': 'd38e65d832c8d32a5e9d6547144e35f5', 'name': '06. Le Serre', 'latitude': 45.063139596328625, 'longitude': 7.576832771301269, 'timestamp': '2024-10-05T12:04:03.375095Z', 'free_bikes': 5, 'empty_slots': 3, 'extra': {'uid': '542', 'number': 6, 'status': 'offline', 'score': 3.2, 'reviews': 32}}, {'id': 'd55bde750a05150e2bd91d020a5a743e', 'name': '02. BIKE POINT Mandria', 'latitude': 45.134345, 'longitude': 7.576462, 'timestamp': '2024-10-05T12:04:03.622283Z', 'free_bikes': 5, 'empty_slots': 3, 'extra': {'uid': '1563', 'number': 2, 'status': 'online', 'score': 1.0, 'reviews': 1}}, {'id': 'd5b824f8f0b24055820952cae13d8eb6', 'name': '03. Borgo', 'latitude': 45.056364402185814, 'longitude': 7.580995559692383, 'timestamp': '2024-10-05T12:04:03.375068Z', 'free_bikes': 5, 'empty_slots': 3, 'extra': {'uid': '539', 'number': 3, 'status': 'offline', 'score': 3.9, 'reviews': 28}}, {'id': 'd6806ba5784a0d60f24f380a9b09a1cb', 'name': '02. Berlinguer', 'latitude': 45.099654215224064, 'longitude': 7.531235218048096, 'timestamp': '2024-10-05T12:04:03.597015Z', 'free_bikes': 5, 'empty_slots': 3, 'extra': {'uid': '593', 'number': 2, 'status': 'offline', 'score': 3.0, 'reviews': 11}}, {'id': 'dff9f20a6eb38d6a666eccb3cff13fd8', 'name': '09. Rigola', 'latitude': 45.120052841530544, 'longitude': 7.648565769195557, 'timestamp': '2024-10-05T12:04:03.501466Z', 'free_bikes': 5, 'empty_slots': 3, 'extra': {'uid': '591', 'number': 9, 'status': 'offline', 'score': 4.7, 'reviews': 29}}, {'id': 'e6642b43e6d4732fcd596eef9dc4c931', 'name': '04. Reggia', 'latitude': 45.13563084470412, 'longitude': 7.625724077224732, 'timestamp': '2024-10-05T12:04:03.501424Z', 'free_bikes': 0, 'empty_slots': 0, 'extra': {'uid': '586', 'number': 4, 'status': 'offline', 'score': 4.2, 'reviews': 24}}, {'id': 'e8242fb035991ef3d83e93fb3b6fa97b', 'name': '01. Concordia', 'latitude': 45.116903418249365, 'longitude': 7.62300968170166, 'timestamp': '2024-10-05T12:04:03.501379Z', 'free_bikes': 0, 'empty_slots': 0, 'extra': {'uid': '583', 'number': 1, 'status': 'offline', 'score': 3.8, 'reviews': 36}}, {'id': 'efb9906681ca572faa6c528c55856187', 'name': '04. Villa Claretta', 'latitude': 45.06171490180712, 'longitude': 7.581188678741455, 'timestamp': '2024-10-05T12:04:03.375078Z', 'free_bikes': 5, 'empty_slots': 3, 'extra': {'uid': '540', 'number': 4, 'status': 'offline', 'score': 4.2, 'reviews': 112}}, {'id': 'f01c3eb11d001cdeb048c5153d2312ae', 'name': '01. Gerbido', 'latitude': 45.04440354326403, 'longitude': 7.617623805999756, 'timestamp': '2024-10-05T12:04:03.375029Z', 'free_bikes': 5, 'empty_slots': 3, 'extra': {'uid': '537', 'number': 1, 'status': 'offline', 'score': 4.0, 'reviews': 72}}, {'id': 'f16cba9c6dc917e833eab7bf3e0168b7', 'name': '10. Gallo Praile', 'latitude': 45.114828943536864, 'longitude': 7.641313076019287, 'timestamp': '2024-10-05T12:04:03.501475Z', 'free_bikes': 0, 'empty_slots': 0, 'extra': {'uid': '592', 'number': 10, 'status': 'offline', 'score': 4.5, 'reviews': 40}}, {'id': 'f1d7621c4f2b581dc95871181eaddf7f', 'name': '07. Stazione F.S.', 'latitude': 45.07894526052452, 'longitude': 7.574386596679687, 'timestamp': '2024-10-05T12:04:03.469193Z', 'free_bikes': 5, 'empty_slots': 3, 'extra': {'uid': '535', 'number': 7, 'status': 'offline', 'score': 2.8, 'reviews': 15}}, {'id': 'f721695d488b071d3df077eb4a9d50bf', 'name': '08. Gramsci', 'latitude': 45.07270231814184, 'longitude': 7.58030891418457, 'timestamp': '2024-10-05T12:04:03.469202Z', 'free_bikes': 5, 'empty_slots': 3, 'extra': {'uid': '536', 'number': 8, 'status': 'offline', 'score': 1.4, 'reviews': 34}}, {'id': 'ffd596ecd472bfa10fd38a9685f17c8c', 'name': '07. Stazione Ferroviaria Paradiso', 'latitude': 45.06829245027643, 'longitude': 7.599577903747559, 'timestamp': '2024-10-05T12:04:03.375104Z', 'free_bikes': 5, 'empty_slots': 3, 'extra': {'uid': '543', 'number': 7, 'status': 'offline', 'score': 2.5, 'reviews': 23}}]}}\n"
     ]
    }
   ],
   "source": [
    "# Open and load the JSON file\n",
    "with open('to-bike', 'r') as file:\n",
    "    Citybik_data = json.load(file)\n",
    "\n",
    "\n",
    "print(type(Citybik_data))\n",
    "print(Citybik_data)"
   ]
  },
  {
   "cell_type": "markdown",
   "metadata": {},
   "source": [
    "2. Count and print the number of active stations (a station is active if its `extra.status` field is `online`).\n"
   ]
  },
  {
   "cell_type": "code",
   "execution_count": 64,
   "metadata": {},
   "outputs": [
    {
     "name": "stdout",
     "output_type": "stream",
     "text": [
      "Number of active stations: 1\n"
     ]
    }
   ],
   "source": [
    "active_stations = 0\n",
    "\n",
    "# Loop through the stations in the JSON\n",
    "for station in Citybik_data['network']['stations']:\n",
    "    if station['extra']['status'] == 'online':\n",
    "        active_stations += 1\n",
    "\n",
    "# Print the number of active stations\n",
    "print(f\"Number of active stations: {active_stations}\")"
   ]
  },
  {
   "cell_type": "markdown",
   "metadata": {},
   "source": [
    "3. Count and print the total number of bikes available (field `free_bikes`) and the number of free docks\n",
    "(field `empty_slots`) throughout all stations."
   ]
  },
  {
   "cell_type": "code",
   "execution_count": 66,
   "metadata": {},
   "outputs": [
    {
     "name": "stdout",
     "output_type": "stream",
     "text": [
      "Number of available bikes: 8\n"
     ]
    }
   ],
   "source": [
    "available_bikes = 0\n",
    "\n",
    "# Loop through the stations in the JSON\n",
    "for station in Citybik_data['network']['stations']:\n",
    "    available_bikes = station['free_bikes'] + station['empty_slots']\n",
    "\n",
    "# Print the number of active stations\n",
    "print(f\"Number of available bikes: {available_bikes}\")"
   ]
  },
  {
   "cell_type": "markdown",
   "metadata": {},
   "source": [
    "4. Given the coordinates (latitude, longitude) of a point (e.g. 45.074512, 7.694419), identify the\n",
    "closest bike station to it that has available bikes.<br>For computing the distance among two points\n",
    "(given their coordinates), you can use the function `distance_coords()` defined in the code snippet\n",
    "below (which is an implementation of the [great-circle distance](https://en.wikipedia.org/wiki/Great-circle_distance)):"
   ]
  },
  {
   "cell_type": "code",
   "execution_count": 67,
   "metadata": {},
   "outputs": [
    {
     "name": "stdout",
     "output_type": "stream",
     "text": [
      "Closest station with available bikes: 09. Rigola, Distance: 6219.58278998704 meters\n"
     ]
    }
   ],
   "source": [
    "from math import cos, acos, sin\n",
    "\n",
    "def distance_coords(lat1, lng1, lat2, lng2):\n",
    "    \"\"\"Compute the distance among two points.\"\"\"\n",
    "    \n",
    "    deg2rad = lambda x: x * 3.141592 / 180\n",
    "    lat1, lng1, lat2, lng2 = map(deg2rad, [ lat1, lng1, lat2, lng2 ])\n",
    "    \n",
    "    R = 6378100 # Radius of the Earth, in meters\n",
    "    return R * acos(sin(lat1) * sin(lat2) + cos(lat1) * cos(lat2) * cos(lng1 - lng2))\n",
    "\n",
    "\n",
    "\n",
    "# Compute distance from a specific point\n",
    "latitude, longitude = 45.074512, 7.694419\n",
    "closest_station = None\n",
    "min_distance = float('inf')\n",
    "\n",
    "for station in Citybik_data['network']['stations']:\n",
    "    if station['free_bikes'] > 0:\n",
    "        dist = distance_coords(latitude, longitude, station['latitude'], station['longitude'])\n",
    "        if dist < min_distance:\n",
    "            min_distance = dist\n",
    "            closest_station = station\n",
    "\n",
    "print(f\"Closest station with available bikes: {closest_station['name']}, Distance: {min_distance} meters\")\n"
   ]
  },
  {
   "cell_type": "markdown",
   "metadata": {},
   "source": [
    "---\n",
    "### 3. MNIST dataset\n",
    "\n",
    "1. Downloaded and Load MNIST dataset. You can make use of the csv module already presented."
   ]
  },
  {
   "cell_type": "code",
   "execution_count": 69,
   "metadata": {},
   "outputs": [
    {
     "name": "stderr",
     "output_type": "stream",
     "text": [
      "  % Total    % Received % Xferd  Average Speed   Time    Time     Time  Current\n",
      "                                 Dload  Upload   Total   Spent    Left  Speed\n",
      "\n",
      "  0     0    0     0    0     0      0      0 --:--:-- --:--:-- --:--:--     0\n",
      "  0     0    0     0    0     0      0      0 --:--:--  0:00:01 --:--:--     0\n",
      " 90 17.4M   90 15.8M    0     0  10.0M      0  0:00:01  0:00:01 --:--:-- 10.0M\n",
      "100 17.4M  100 17.4M    0     0  10.9M      0  0:00:01  0:00:01 --:--:-- 10.9M\n"
     ]
    }
   ],
   "source": [
    "!curl -O https://raw.githubusercontent.com/dbdmg/data-science-lab/master/datasets/mnist_test.csv"
   ]
  },
  {
   "cell_type": "code",
   "execution_count": 71,
   "metadata": {},
   "outputs": [],
   "source": [
    "\n",
    "mnist_data = []\n",
    "with open(\"mnist_test.csv\") as f:\n",
    "    reader = csv.reader(f)\n",
    "    for row in reader:\n",
    "        mnist_data.append([int(val) for val in row])\n",
    "\n",
    "\n"
   ]
  },
  {
   "cell_type": "markdown",
   "metadata": {},
   "source": [
    "2. Create a function that, given a position 1 ≤ k ≤ 10, 000, prints the kth digit of the dataset (i.e. the kth row of the csv file) as a grid of 28 × 28 characters.\n",
    "<br>More specifically, you should map each range of pixel values to the following characters:\n",
    "- [0, 64) → \" \"\n",
    "- [64, 128) → \".\"\n",
    "- [128, 192) → \"*\"\n",
    "- [192, 256) → \"#\"\n"
   ]
  },
  {
   "cell_type": "code",
   "execution_count": 76,
   "metadata": {},
   "outputs": [
    {
     "name": "stdout",
     "output_type": "stream",
     "text": [
      "                            \n",
      "                            \n",
      "                            \n",
      "                            \n",
      "                            \n",
      "              .#      **    \n",
      "             .##..*#####    \n",
      "            #########*.     \n",
      "           #####***.        \n",
      "          ##*               \n",
      "         *##                \n",
      "         ##                 \n",
      "        .##                 \n",
      "         ###*               \n",
      "         .#####.            \n",
      "            *###*           \n",
      "              *###*         \n",
      "                ###         \n",
      "                .##         \n",
      "                ###         \n",
      "              .###          \n",
      "        .    *###.          \n",
      "       .# .*###*            \n",
      "       .######.             \n",
      "        *##*.               \n",
      "                            \n",
      "                            \n",
      "                            \n"
     ]
    }
   ],
   "source": [
    "def display_digit(k):\n",
    "    pixel_data = mnist_data[k][1:]  # Skip the label\n",
    "    pixel_grid = [pixel_data[i:i+28] for i in range(0, 784, 28)]\n",
    "    \n",
    "    for row in pixel_grid:\n",
    "        print(\"\".join([\" \" if p < 64 else \".\" if p < 128 else \"*\" if p < 192 else \"#\" for p in row]))\n",
    "\n",
    "# Display the 130th image\n",
    "display_digit(129)\n"
   ]
  },
  {
   "cell_type": "markdown",
   "metadata": {},
   "source": [
    "3. Compute the Euclidean distance between each pair of the 784-dimensional vectors of the digits at\n",
    "the following positions: \n",
    "- 26th\n",
    "- 30th\n",
    "- 32nd\n",
    "- 35th\n"
   ]
  },
  {
   "cell_type": "code",
   "execution_count": 80,
   "metadata": {},
   "outputs": [
    {
     "name": "stdout",
     "output_type": "stream",
     "text": [
      "Distance between digit 26 and 30: 3539.223\n",
      "Distance between digit 30 and 32: 1171.829\n",
      "Distance between digit 32 and 35: 2515.560\n"
     ]
    }
   ],
   "source": [
    "from scipy.spatial import distance\n",
    "\n",
    "# Compute Euclidean distance between specific rows\n",
    "pairs = [(25, 29), (29, 31), (31, 34)]\n",
    "for i, j in pairs:\n",
    "    dist = distance.euclidean(mnist_data[i][1:], mnist_data[j][1:])\n",
    "    print(f\"Distance between digit {i+1} and {j+1}: {dist:.3f}\")\n"
   ]
  },
  {
   "cell_type": "markdown",
   "metadata": {},
   "source": [
    "4. There are 1,135 1’s and 980 0’s in the dataset. For all 0’s and 1’s separately, count the number\n",
    "of times each of the 784 pixels is black (use 128 as the threshold value). You can do this by building\n",
    "a list Z and a list O, each containing 784 elements, containing respectively the counts for the 0’s and\n",
    "the 1’s. `Z[i]` and `O[i]` contain the number of times the `i`\n",
    "th pixel was black for either class. For each\n",
    "value `i`, compute `abs(Z[i] - O[i])`. The i with the highest value represents the pixel that best\n",
    "separates the digits “0” and “1” (i.e. the pixel that is most often black for one class and white for the\n",
    "other). Where is this pixel located within the grid? Why is it?\n"
   ]
  },
  {
   "cell_type": "code",
   "execution_count": 81,
   "metadata": {},
   "outputs": [
    {
     "name": "stdout",
     "output_type": "stream",
     "text": [
      "Pixel 406 has the highest difference: 958\n",
      "This pixel is located at row 14, column 14 in the 28x28 grid.\n"
     ]
    }
   ],
   "source": [
    "# Separate the rows for digits '0' and '1'\n",
    "zeros = [row[1:] for row in mnist_data if row[0] == 0]  # rows corresponding to digit '0'\n",
    "ones = [row[1:] for row in mnist_data if row[0] == 1]   # rows corresponding to digit '1'\n",
    "\n",
    "# Initialize lists Z and O with 784 elements (one for each pixel)\n",
    "Z = [0] * 784  # Z counts for 0's\n",
    "O = [0] * 784  # O counts for 1's\n",
    "\n",
    "# Define the threshold for \"black\" pixel\n",
    "threshold = 128\n",
    "\n",
    "# Count black pixels for 0's (Z)\n",
    "for zero in zeros:\n",
    "    for i, pixel_value in enumerate(zero):\n",
    "        if pixel_value < threshold:\n",
    "            Z[i] += 1\n",
    "\n",
    "# Count black pixels for 1's (O)\n",
    "for one in ones:\n",
    "    for i, pixel_value in enumerate(one):\n",
    "        if pixel_value < threshold:\n",
    "            O[i] += 1\n",
    "\n",
    "# Calculate abs(Z[i] - O[i]) for each pixel\n",
    "diff = [abs(Z[i] - O[i]) for i in range(784)]\n",
    "\n",
    "# Find the pixel with the highest difference\n",
    "max_diff_pixel = np.argmax(diff)  # This gives the index of the pixel with the highest difference\n",
    "\n",
    "# Print the results\n",
    "print(f\"Pixel {max_diff_pixel} has the highest difference: {diff[max_diff_pixel]}\")\n",
    "\n",
    "# Optionally: Convert pixel index to 28x28 grid coordinates\n",
    "row, col = divmod(max_diff_pixel, 28)\n",
    "print(f\"This pixel is located at row {row}, column {col} in the 28x28 grid.\")"
   ]
  }
 ],
 "metadata": {
  "kernelspec": {
   "display_name": "Python 3",
   "language": "python",
   "name": "python3"
  },
  "language_info": {
   "codemirror_mode": {
    "name": "ipython",
    "version": 3
   },
   "file_extension": ".py",
   "mimetype": "text/x-python",
   "name": "python",
   "nbconvert_exporter": "python",
   "pygments_lexer": "ipython3",
   "version": "3.9.13"
  }
 },
 "nbformat": 4,
 "nbformat_minor": 2
}
