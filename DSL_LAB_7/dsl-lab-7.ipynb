{
 "cells": [
  {
   "cell_type": "code",
   "execution_count": 1,
   "metadata": {},
   "outputs": [],
   "source": [
    "import os\n",
    "import numpy as np\n",
    "from scipy.io import wavfile\n"
   ]
  },
  {
   "cell_type": "code",
   "execution_count": 2,
   "metadata": {},
   "outputs": [
    {
     "data": {
      "text/plain": [
       "'Found 1500 .wav files.'"
      ]
     },
     "execution_count": 2,
     "metadata": {},
     "output_type": "execute_result"
    }
   ],
   "source": [
    "dataset_path = 'free-spoken-digit\\\\dev'\n",
    "\n",
    "os.listdir(dataset_path)\n",
    "wav_files = [f for f in os.listdir(dataset_path) if f.endswith('.wav')]\n",
    "\n",
    "f\"Found {len(wav_files)} .wav files.\""
   ]
  },
  {
   "cell_type": "code",
   "execution_count": 3,
   "metadata": {},
   "outputs": [],
   "source": [
    "def load_wav_file(filepath):\n",
    "    sample_rate, data = wavfile.read(filepath)\n",
    "    return sample_rate, data\n"
   ]
  },
  {
   "cell_type": "code",
   "execution_count": 4,
   "metadata": {},
   "outputs": [],
   "source": [
    "# Load all wav files\n",
    "data_list = []\n",
    "labels = []"
   ]
  },
  {
   "cell_type": "code",
   "execution_count": 5,
   "metadata": {},
   "outputs": [
    {
     "data": {
      "text/plain": [
       "(8000, array([-6,  8, -4, ..., 13, 14, 31], dtype=int16))"
      ]
     },
     "execution_count": 5,
     "metadata": {},
     "output_type": "execute_result"
    }
   ],
   "source": [
    "load_wav_file('free-spoken-digit\\dev\\\\1474_2.wav')"
   ]
  },
  {
   "cell_type": "code",
   "execution_count": 6,
   "metadata": {},
   "outputs": [],
   "source": [
    "for file in wav_files:\n",
    "    filepath = os.path.join(dataset_path, file)\n",
    "    sample_rate, data = load_wav_file(filepath)\n",
    "    \n",
    "    # Convert stereo to mono if necessary\n",
    "    if len(data.shape) > 1:\n",
    "        data = np.mean(data, axis=1)\n",
    "    \n",
    "    data_list.append(data)\n",
    "\n",
    "    # Extract label from filename or folder structure (modify as per dataset)\n",
    "    label = file.split(\"_\")[1].split(\".\")[0]\n",
    "    labels.append(label)\n"
   ]
  },
  {
   "cell_type": "code",
   "execution_count": 7,
   "metadata": {},
   "outputs": [
    {
     "name": "stdout",
     "output_type": "stream",
     "text": [
      "Loaded 1500 audio files.\n"
     ]
    }
   ],
   "source": [
    "\n",
    "# Convert lists to numpy arrays\n",
    "X = np.array(data_list, dtype=object)  # dtype=object for varying lengths\n",
    "y = np.array(labels)\n",
    "\n",
    "print(f\"Loaded {len(X)} audio files.\")"
   ]
  },
  {
   "cell_type": "code",
   "execution_count": null,
   "metadata": {},
   "outputs": [
    {
     "data": {
      "text/plain": [
       "array(['4', '0', '1', ..., '6', '8', '3'], dtype='<U1')"
      ]
     },
     "execution_count": 8,
     "metadata": {},
     "output_type": "execute_result"
    }
   ],
   "source": [
    "temp = np.array()\n",
    "\n",
    "for i in range(X):\n",
    "    temp[i] = X[i]"
   ]
  }
 ],
 "metadata": {
  "kernelspec": {
   "display_name": "Python 3",
   "language": "python",
   "name": "python3"
  },
  "language_info": {
   "codemirror_mode": {
    "name": "ipython",
    "version": 3
   },
   "file_extension": ".py",
   "mimetype": "text/x-python",
   "name": "python",
   "nbconvert_exporter": "python",
   "pygments_lexer": "ipython3",
   "version": "3.9.13"
  }
 },
 "nbformat": 4,
 "nbformat_minor": 2
}
